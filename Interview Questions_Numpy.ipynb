{
 "cells": [
  {
   "cell_type": "markdown",
   "metadata": {},
   "source": [
    "## Practice Exercise 1"
   ]
  },
  {
   "cell_type": "markdown",
   "metadata": {},
   "source": [
    "You are provided with 2 lists that contain the data of an ecommerce website. The first list contains the data for the number of items sold for a particular product and the second list contains the price of the product sold. As a part of this exercise, solve the questions that are provided below."
   ]
  },
  {
   "cell_type": "code",
   "execution_count": 3,
   "metadata": {},
   "outputs": [],
   "source": [
    "number = [8, 9, 9, 1, 6, 9, 5, 7, 3, 9, 7, 3, 4, 8, 3, 5, 8, 4, 8, 7, 5, 7, 3, 6, 1, 2, 7, 4, 7, 7, 8, 4, 3, 4, 2, 2, 2, 7, 3, 5, 6, 1, 1, 3, 2, 1, 1, 7, 7, 1, 4, 4, 5, 6, 1, 2, 7, 4, 5, 8, 1, 4, 8, 6, 2, 4, 3, 7, 3, 6, 2, 3, 3, 3, 2, 4, 6, 8, 9, 3, 9, 3, 1, 8, 6, 6, 3, 3, 9, 4, 6, 4, 9, 6, 7, 1, 2, 8, 7, 8, 1, 4]\n",
    "price = [195, 225, 150, 150, 90, 60, 75, 255, 270, 225, 135, 195, 30, 15, 210, 105, 15, 30, 180, 60, 165, 60, 45, 225, 180, 90, 30, 210, 150, 15, 270, 60, 210, 180, 60, 225, 150, 150, 120, 195, 75, 240, 60, 45, 30, 180, 240, 285, 135, 165, 180, 240, 60, 105, 165, 240, 120, 45, 120, 165, 285, 225, 90, 105, 225, 45, 45, 45, 75, 180, 90, 240, 30, 30, 60, 135, 180, 15, 255, 180, 270, 135, 105, 135, 210, 180, 135, 195, 225, 75, 225, 15, 240, 60, 15, 180, 255, 90, 15, 150, 230, 150]"
   ]
  },
  {
   "cell_type": "markdown",
   "metadata": {},
   "source": [
    "#### How many different products are sold by the company in total?\n",
    "\n",
    "-  99\n",
    "-  100\n",
    "-  101\n",
    "-  102\n"
   ]
  },
  {
   "cell_type": "code",
   "execution_count": 4,
   "metadata": {},
   "outputs": [
    {
     "data": {
      "text/plain": [
       "102"
      ]
     },
     "execution_count": 4,
     "metadata": {},
     "output_type": "execute_result"
    }
   ],
   "source": [
    "# Type your code here\n",
    "import numpy as np\n",
    "\n",
    "\n",
    "number = [8, 9, 9, 1, 6, 9, 5, 7, 3, 9, 7, 3, 4, 8, 3, 5, 8, 4, 8, 7, 5, 7, 3, 6, 1, 2, 7, 4, 7, 7, 8, 4, 3, 4, 2, 2, 2, 7, 3, 5, 6, 1, 1, 3, 2, 1, 1, 7, 7, 1, 4, 4, 5, 6, 1, 2, 7, 4, 5, 8, 1, 4, 8, 6, 2, 4, 3, 7, 3, 6, 2, 3, 3, 3, 2, 4, 6, 8, 9, 3, 9, 3, 1, 8, 6, 6, 3, 3, 9, 4, 6, 4, 9, 6, 7, 1, 2, 8, 7, 8, 1, 4]\n",
    "price = [195, 225, 150, 150, 90, 60, 75, 255, 270, 225, 135, 195, 30, 15, 210, 105, 15, 30, 180, 60, 165, 60, 45, 225, 180, 90, 30, 210, 150, 15, 270, 60, 210, 180, 60, 225, 150, 150, 120, 195, 75, 240, 60, 45, 30, 180, 240, 285, 135, 165, 180, 240, 60, 105, 165, 240, 120, 45, 120, 165, 285, 225, 90, 105, 225, 45, 45, 45, 75, 180, 90, 240, 30, 30, 60, 135, 180, 15, 255, 180, 270, 135, 105, 135, 210, 180, 135, 195, 225, 75, 225, 15, 240, 60, 15, 180, 255, 90, 15, 150, 230, 150]\n",
    "\n",
    "# Fetch the unique products in the numpy array numbers\n",
    "\n",
    "unique_products = np.unique([number])\n",
    "unique_products\n",
    "\n",
    "unique_products.size\n",
    "\n",
    "Products = np.array([number])\n",
    "Products.size"
   ]
  },
  {
   "cell_type": "markdown",
   "metadata": {},
   "source": [
    "#### How many items were sold in total?\n",
    "\n",
    "-  460\n",
    "-  490\n",
    "-  500\n",
    "-  520\n"
   ]
  },
  {
   "cell_type": "code",
   "execution_count": 5,
   "metadata": {},
   "outputs": [
    {
     "data": {
      "text/plain": [
       "np.int64(490)"
      ]
     },
     "execution_count": 5,
     "metadata": {},
     "output_type": "execute_result"
    }
   ],
   "source": [
    "# Type your code here\n",
    "\n",
    "Products.sum()"
   ]
  },
  {
   "cell_type": "markdown",
   "metadata": {},
   "source": [
    "#### What is the average price of the products sold by the ecommerce company?\n",
    "\n",
    "-  139\n",
    "-  151\n",
    "-  142\n",
    "-  128"
   ]
  },
  {
   "cell_type": "code",
   "execution_count": 6,
   "metadata": {},
   "outputs": [
    {
     "data": {
      "text/plain": [
       "np.float64(139.01960784313727)"
      ]
     },
     "execution_count": 6,
     "metadata": {},
     "output_type": "execute_result"
    }
   ],
   "source": [
    "# Type your code here\n",
    "\n",
    "Average_Price = np.array([price])\n",
    "Average_Price.mean()\n"
   ]
  },
  {
   "cell_type": "markdown",
   "metadata": {},
   "source": [
    "#### What is the price of the costliest item sold?\n",
    "\n",
    "-  225\n",
    "-  310\n",
    "-  280\n",
    "-  285"
   ]
  },
  {
   "cell_type": "code",
   "execution_count": 7,
   "metadata": {},
   "outputs": [
    {
     "data": {
      "text/plain": [
       "np.int64(285)"
      ]
     },
     "execution_count": 7,
     "metadata": {},
     "output_type": "execute_result"
    }
   ],
   "source": [
    "# Type your code here\n",
    "\n",
    "Costliest_Product = np.array([price])\n",
    "Costliest_Product.max()"
   ]
  },
  {
   "cell_type": "markdown",
   "metadata": {},
   "source": [
    "#### What is the total revenue of the company? [Revenue = Price\\*Quantity]\n",
    "\n",
    "-  67100\n",
    "-  53900\n",
    "-  45300\n",
    "-  71200"
   ]
  },
  {
   "cell_type": "code",
   "execution_count": 8,
   "metadata": {},
   "outputs": [
    {
     "data": {
      "text/plain": [
       "np.int64(67100)"
      ]
     },
     "execution_count": 8,
     "metadata": {},
     "output_type": "execute_result"
    }
   ],
   "source": [
    "# Type your code here\n",
    "\n",
    "# Revenue = Price*Quantity\n",
    "\n",
    "Revenue = np.array([price])\n",
    "Quantity = np.array([number])\n",
    "Profit = Revenue * Quantity\n",
    "Profit.sum()\n"
   ]
  },
  {
   "cell_type": "markdown",
   "metadata": {
    "collapsed": true
   },
   "source": [
    "#### Demand for the 20th product in the list is more than the 50th product. [True/False]\n",
    "-  True\n",
    "-  False\n",
    "-  Can't be calculated\n",
    "\n",
    "\n"
   ]
  },
  {
   "cell_type": "code",
   "execution_count": 9,
   "metadata": {},
   "outputs": [
    {
     "data": {
      "text/plain": [
       "True"
      ]
     },
     "execution_count": 9,
     "metadata": {},
     "output_type": "execute_result"
    }
   ],
   "source": [
    "number[19]>number[49]"
   ]
  },
  {
   "cell_type": "markdown",
   "metadata": {},
   "source": [
    "#### How many products fall under the category of expensive goods? \n",
    "An expensive good is that good whose price is more than the average price of the products sold by the company.\n",
    "\n",
    "-  48\n",
    "-  50\n",
    "-  52\n",
    "-  54"
   ]
  },
  {
   "cell_type": "code",
   "execution_count": 10,
   "metadata": {},
   "outputs": [],
   "source": [
    "# Type your code here\n",
    "\n",
    "expensive = price > Average_Price.mean()"
   ]
  },
  {
   "cell_type": "code",
   "execution_count": 11,
   "metadata": {},
   "outputs": [],
   "source": [
    "expensive_product = expensive[price > Average_Price.mean()]"
   ]
  },
  {
   "cell_type": "code",
   "execution_count": 12,
   "metadata": {},
   "outputs": [
    {
     "data": {
      "text/plain": [
       "52"
      ]
     },
     "execution_count": 12,
     "metadata": {},
     "output_type": "execute_result"
    }
   ],
   "source": [
    "expensive_product.size"
   ]
  },
  {
   "cell_type": "code",
   "execution_count": 13,
   "metadata": {},
   "outputs": [],
   "source": [
    "# list of height and weight of the players.\n",
    "players = [(74, 180), (74, 215), (72, 210), (72, 210), (73, 188), (69, 176), (69, 209), (71, 200), (76, 231), (71, 180), (73, 188), (73, 180), (74, 185), (74, 160), (69, 180), (70, 185), (73, 189), (75, 185), (78, 219), (79, 230), (76, 205), (74, 230), (76, 195), (72, 180), (71, 192), (75, 225), (77, 203), (74, 195), (73, 182), (74, 188), (78, 200), (73, 180), (75, 200), (73, 200), (75, 245), (75, 240), (74, 215), (69, 185), (71, 175), (74, 199), (73, 200), (73, 215), (76, 200), (74, 205), (74, 206), (70, 186), (72, 188), (77, 220), (74, 210), (70, 195), (73, 200), (75, 200), (76, 212), (76, 224), (78, 210), (74, 205), (74, 220), (76, 195), (77, 200), (81, 260), (78, 228), (75, 270), (77, 200), (75, 210), (76, 190), (74, 220), (72, 180), (72, 205), (75, 210), (73, 220), (73, 211), (73, 200), (70, 180), (70, 190), (70, 170), (76, 230), (68, 155), (71, 185), (72, 185), (75, 200), (75, 225), (75, 225), (75, 220), (68, 160), (74, 205), (78, 235), (71, 250), (73, 210), (76, 190), (74, 160), (74, 200), (79, 205), (75, 222), (73, 195), (76, 205), (74, 220), (74, 220), (73, 170), (72, 185), (74, 195), (73, 220), (74, 230), (72, 180), (73, 220), (69, 180), (72, 180), (73, 170), (75, 210), (75, 215), (73, 200), (72, 213), (72, 180), (76, 192), (74, 235), (72, 185), (77, 235), (74, 210), (77, 222), (75, 210), (76, 230), (80, 220), (74, 180), (74, 190), (75, 200), (78, 210), (73, 194), (73, 180), (74, 190), (75, 240), (76, 200), (71, 198), (73, 200), (74, 195), (76, 210), (76, 220), (74, 190), (73, 210), (74, 225), (70, 180), (72, 185), (73, 170), (73, 185), (73, 185), (73, 180), (71, 178), (74, 175), (74, 200), (72, 204), (74, 211), (71, 190), (74, 210), (73, 190), (75, 190), (75, 185), (79, 290), (73, 175), (75, 185), (76, 200), (74, 220), (76, 170), (78, 220), (74, 190), (76, 220), (72, 205), (74, 200), (76, 250), (74, 225), (75, 215), (78, 210), (75, 215), (72, 195), (74, 200), (72, 194), (74, 220), (70, 180), (71, 180), (70, 170), (75, 195), (71, 180), (71, 170), (73, 206), (72, 205), (71, 200), (73, 225), (72, 201), (75, 225), (74, 233), (74, 180), (75, 225), (73, 180), (77, 220), (73, 180), (76, 237), (75, 215), (74, 190), (76, 235), (75, 190), (73, 180), (71, 165), (76, 195), (75, 200), (72, 190), (71, 190), (77, 185), (73, 185), (74, 205), (71, 190), (72, 205), (74, 206), (75, 220), (73, 208), (72, 170), (75, 195), (75, 210), (74, 190), (72, 211), (74, 230), (71, 170), (70, 185), (74, 185), (77, 241), (77, 225), (75, 210), (75, 175), (78, 230), (75, 200), (76, 215), (73, 198), (75, 226), (75, 278), (79, 215), (77, 230), (76, 240), (71, 184), (75, 219), (74, 170), (69, 218), (71, 190), (76, 225), (72, 220), (72, 176), (70, 190), (72, 197), (73, 204), (71, 167), (72, 180), (71, 195), (73, 220), (72, 215), (73, 185), (74, 190), (74, 205), (72, 205), (75, 200), (74, 210), (74, 215), (77, 200), (75, 205), (73, 211), (72, 190), (71, 208), (74, 200), (77, 210), (75, 232), (75, 230), (75, 210), (78, 220), (78, 210), (74, 202), (76, 212), (78, 225), (76, 170), (70, 190), (72, 200), (80, 237), (74, 220), (74, 170), (71, 193), (70, 190), (72, 150), (71, 220), (74, 200), (71, 190), (72, 185), (71, 185), (74, 200), (69, 172), (76, 220), (75, 225), (75, 190), (76, 195), (73, 219), (76, 190), (73, 197), (77, 200), (73, 195), (72, 210), (72, 177), (77, 220), (77, 235), (71, 180), (74, 195), (74, 195), (73, 190), (78, 230), (75, 190), (73, 200), (70, 190), (74, 190), (72, 200), (73, 200), (73, 184), (75, 200), (75, 180), (74, 219), (76, 187), (73, 200), (74, 220), (75, 205), (75, 190), (72, 170), (73, 160), (73, 215), (72, 175), (74, 205), (78, 200), (76, 214), (73, 200), (74, 190), (75, 180), (70, 205), (75, 220), (71, 190), (72, 215), (78, 235), (75, 191), (73, 200), (73, 181), (71, 200), (75, 210), (77, 240), (72, 185), (69, 165), (73, 190), (74, 185), (72, 175), (70, 155), (75, 210), (70, 170), (72, 175), (72, 220), (74, 210), (73, 205), (74, 200), (76, 205), (75, 195), (80, 240), (72, 150), (75, 200), (73, 215), (74, 202), (74, 200), (73, 190), (75, 205), (75, 190), (71, 160), (73, 215), (75, 185), (74, 200), (74, 190), (72, 210), (74, 185), (74, 220), (74, 190), (73, 202), (76, 205), (75, 220), (72, 175), (73, 160), (73, 190), (73, 200), (72, 229), (72, 206), (72, 220), (72, 180), (71, 195), (75, 175), (75, 188), (74, 230), (73, 190), (75, 200), (79, 190), (74, 219), (76, 235), (73, 180), (74, 180), (74, 180), (72, 200), (74, 234), (74, 185), (75, 220), (78, 223), (74, 200), (74, 210), (74, 200), (77, 210), (70, 190), (73, 177), (74, 227), (73, 180), (71, 195), (75, 199), (71, 175), (72, 185), (77, 240), (74, 210), (70, 180), (77, 194), (73, 225), (72, 180), (76, 205), (71, 193), (76, 230), (78, 230), (75, 220), (73, 200), (78, 249), (74, 190), (79, 208), (75, 245), (76, 250), (72, 160), (75, 192), (75, 220), (70, 170), (72, 197), (70, 155), (74, 190), (71, 200), (76, 220), (73, 210), (76, 228), (71, 190), (69, 160), (72, 184), (72, 180), (69, 180), (73, 200), (69, 176), (73, 160), (74, 222), (74, 211), (72, 195), (71, 200), (72, 175), (72, 206), (76, 240), (76, 185), (76, 260), (74, 185), (76, 221), (75, 205), (71, 200), (72, 170), (71, 201), (73, 205), (75, 185), (76, 205), (75, 245), (71, 220), (75, 210), (74, 220), (72, 185), (73, 175), (73, 170), (73, 180), (73, 200), (76, 210), (72, 175), (76, 220), (73, 206), (73, 180), (73, 210), (75, 195), (75, 200), (77, 200), (73, 164), (72, 180), (75, 220), (70, 195), (74, 205), (72, 170), (80, 240), (71, 210), (71, 195), (74, 200), (74, 205), (73, 192), (75, 190), (76, 170), (73, 240), (77, 200), (72, 205), (73, 175), (77, 250), (76, 220), (71, 224), (75, 210), (73, 195), (74, 180), (77, 245), (71, 175), (72, 180), (73, 215), (69, 175), (73, 180), (70, 195), (74, 230), (76, 230), (73, 205), (73, 215), (75, 195), (73, 180), (79, 205), (74, 180), (73, 190), (74, 180), (77, 190), (75, 190), (74, 220), (73, 210), (77, 255), (73, 190), (77, 230), (74, 200), (74, 205), (73, 210), (77, 225), (74, 215), (77, 220), (75, 205), (77, 200), (75, 220), (71, 197), (74, 225), (70, 187), (79, 245), (72, 185), (72, 185), (70, 175), (74, 200), (74, 180), (72, 188), (73, 225), (72, 200), (74, 210), (74, 245), (76, 213), (82, 231), (74, 165), (74, 228), (70, 210), (73, 250), (73, 191), (74, 190), (77, 200), (72, 215), (76, 254), (73, 232), (73, 180), (72, 215), (74, 220), (74, 180), (71, 200), (72, 170), (75, 195), (74, 210), (74, 200), (77, 220), (70, 165), (71, 180), (73, 200), (76, 200), (71, 170), (75, 224), (74, 220), (72, 180), (76, 198), (79, 240), (76, 239), (73, 185), (76, 210), (78, 220), (75, 200), (76, 195), (72, 220), (72, 230), (73, 170), (73, 220), (75, 230), (71, 165), (76, 205), (70, 192), (75, 210), (74, 205), (75, 200), (73, 210), (71, 185), (71, 195), (72, 202), (73, 205), (73, 195), (72, 180), (69, 200), (73, 185), (78, 240), (71, 185), (73, 220), (75, 205), (76, 205), (70, 180), (74, 201), (77, 190), (75, 208), (79, 240), (72, 180), (77, 230), (73, 195), (75, 215), (75, 190), (75, 195), (73, 215), (73, 215), (76, 220), (77, 220), (75, 230), (70, 195), (71, 190), (71, 195), (75, 209), (74, 204), (69, 170), (70, 185), (75, 205), (72, 175), (75, 210), (73, 190), (72, 180), (72, 180), (72, 160), (76, 235), (75, 200), (74, 210), (69, 180), (73, 190), (72, 197), (72, 203), (75, 205), (77, 170), (76, 200), (80, 250), (77, 200), (76, 220), (79, 200), (71, 190), (75, 170), (73, 190), (76, 220), (77, 215), (73, 206), (76, 215), (70, 185), (75, 235), (73, 188), (75, 230), (70, 195), (69, 168), (71, 190), (72, 160), (72, 200), (73, 200), (70, 189), (70, 180), (73, 190), (76, 200), (75, 220), (72, 187), (73, 240), (79, 190), (71, 180), (72, 185), (74, 210), (74, 220), (74, 219), (72, 190), (76, 193), (76, 175), (72, 180), (72, 215), (71, 210), (72, 200), (72, 190), (70, 185), (77, 220), (74, 170), (72, 195), (76, 205), (71, 195), (76, 210), (71, 190), (73, 190), (70, 180), (73, 220), (73, 190), (72, 186), (71, 185), (71, 190), (71, 180), (72, 190), (72, 170), (74, 210), (74, 240), (74, 220), (71, 180), (72, 210), (75, 210), (72, 195), (71, 160), (72, 180), (72, 205), (72, 200), (72, 185), (74, 245), (74, 190), (77, 210), (75, 200), (73, 200), (75, 222), (73, 215), (76, 240), (72, 170), (77, 220), (75, 156), (72, 190), (71, 202), (71, 221), (75, 200), (72, 190), (73, 210), (73, 190), (71, 200), (70, 165), (75, 190), (71, 185), (76, 230), (73, 208), (68, 209), (71, 175), (72, 180), (74, 200), (77, 205), (72, 200), (76, 250), (78, 210), (81, 230), (72, 244), (73, 202), (76, 240), (72, 200), (72, 215), (74, 177), (76, 210), (73, 170), (76, 215), (75, 217), (70, 198), (71, 200), (74, 220), (72, 170), (73, 200), (76, 230), (76, 231), (73, 183), (71, 192), (68, 167), (71, 190), (71, 180), (74, 180), (77, 215), (69, 160), (72, 205), (76, 223), (75, 175), (76, 170), (75, 190), (76, 240), (72, 175), (74, 230), (76, 223), (74, 196), (72, 167), (75, 195), (78, 190), (77, 250), (70, 190), (72, 190), (79, 190), (74, 170), (71, 160), (68, 150), (77, 225), (75, 220), (71, 209), (72, 210), (70, 176), (72, 260), (72, 195), (73, 190), (72, 184), (74, 180), (72, 195), (72, 195), (75, 219), (72, 225), (73, 212), (74, 202), (72, 185), (78, 200), (75, 209), (72, 200), (74, 195), (75, 228), (75, 210), (76, 190), (74, 212), (74, 190), (73, 218), (74, 220), (71, 190), (74, 235), (75, 210), (76, 200), (74, 188), (76, 210), (76, 235), (73, 188), (75, 215), (75, 216), (74, 220), (68, 180), (72, 185), (75, 200), (71, 210), (70, 220), (72, 185), (73, 231), (72, 210), (75, 195), (74, 200), (70, 205), (76, 200), (71, 190), (82, 250), (72, 185), (73, 180), (74, 170), (71, 180), (75, 208), (77, 235), (72, 215), (74, 244), (72, 220), (73, 185), (78, 230), (77, 190), (73, 200), (73, 180), (73, 190), (73, 196), (73, 180), (76, 230), (75, 224), (70, 160), (73, 178), (72, 205), (73, 185), (75, 210), (74, 180), (73, 190), (73, 200), (76, 257), (73, 190), (75, 220), (70, 165), (77, 205), (72, 200), (77, 208), (74, 185), (75, 215), (75, 170), (75, 235), (75, 210), (72, 170), (74, 180), (71, 170), (76, 190), (71, 150), (75, 230), (76, 203), (83, 260), (75, 246), (74, 186), (76, 210), (72, 198), (72, 210), (75, 215), (75, 180), (72, 200), (77, 245), (73, 200), (72, 192), (70, 192), (74, 200), (72, 192), (74, 205), (72, 190), (71, 186), (70, 170), (71, 197), (76, 219), (74, 200), (76, 220), (74, 207), (74, 225), (74, 207), (75, 212), (75, 225), (71, 170), (71, 190), (74, 210), (77, 230), (71, 210), (74, 200), (75, 238), (77, 234), (76, 222), (74, 200), (76, 190), (72, 170), (71, 220), (72, 223), (75, 210), (73, 215), (68, 196), (72, 175), (69, 175), (73, 189), (73, 205), (75, 210), (70, 180), (70, 180), (74, 197), (75, 220), (74, 228), (74, 190), (73, 204), (74, 165), (75, 216), (77, 220), (73, 208), (74, 210), (76, 215), (74, 195), (75, 200), (73, 215), (76, 229), (78, 240), (75, 207), (73, 205), (77, 208), (74, 185), (72, 190), (74, 170), (72, 208), (71, 225), (73, 190), (75, 225), (73, 185), (67, 180), (67, 165), (76, 240), (74, 220), (73, 212), (70, 163), (75, 215), (70, 175), (72, 205), (77, 210), (79, 205), (78, 208), (74, 215), (75, 180), (75, 200), (78, 230), (76, 211), (75, 230), (69, 190), (75, 220), (72, 180), (75, 205), (73, 190), (74, 180), (75, 205), (75, 190), (73, 195)]"
   ]
  },
  {
   "cell_type": "code",
   "execution_count": 14,
   "metadata": {},
   "outputs": [
    {
     "data": {
      "text/plain": [
       "(74, 215)"
      ]
     },
     "execution_count": 14,
     "metadata": {},
     "output_type": "execute_result"
    }
   ],
   "source": [
    "players[1]"
   ]
  },
  {
   "cell_type": "code",
   "execution_count": 15,
   "metadata": {},
   "outputs": [
    {
     "data": {
      "text/plain": [
       "1015"
      ]
     },
     "execution_count": 15,
     "metadata": {},
     "output_type": "execute_result"
    }
   ],
   "source": [
    "len(players)"
   ]
  },
  {
   "cell_type": "code",
   "execution_count": 16,
   "metadata": {},
   "outputs": [
    {
     "data": {
      "text/plain": [
       "list"
      ]
     },
     "execution_count": 16,
     "metadata": {},
     "output_type": "execute_result"
    }
   ],
   "source": [
    "type(players)"
   ]
  },
  {
   "cell_type": "code",
   "execution_count": 17,
   "metadata": {},
   "outputs": [],
   "source": [
    "import numpy as np"
   ]
  },
  {
   "cell_type": "code",
   "execution_count": 18,
   "metadata": {},
   "outputs": [],
   "source": [
    "np_players = np.array(players)"
   ]
  },
  {
   "cell_type": "code",
   "execution_count": 19,
   "metadata": {},
   "outputs": [
    {
     "data": {
      "text/plain": [
       "array([[ 74, 180],\n",
       "       [ 74, 215],\n",
       "       [ 72, 210],\n",
       "       ...,\n",
       "       [ 75, 205],\n",
       "       [ 75, 190],\n",
       "       [ 73, 195]], shape=(1015, 2))"
      ]
     },
     "execution_count": 19,
     "metadata": {},
     "output_type": "execute_result"
    }
   ],
   "source": [
    "np_players"
   ]
  },
  {
   "cell_type": "code",
   "execution_count": 20,
   "metadata": {},
   "outputs": [
    {
     "data": {
      "text/plain": [
       "numpy.ndarray"
      ]
     },
     "execution_count": 20,
     "metadata": {},
     "output_type": "execute_result"
    }
   ],
   "source": [
    "type(np_players)"
   ]
  },
  {
   "cell_type": "code",
   "execution_count": 21,
   "metadata": {},
   "outputs": [
    {
     "data": {
      "text/plain": [
       "2"
      ]
     },
     "execution_count": 21,
     "metadata": {},
     "output_type": "execute_result"
    }
   ],
   "source": [
    "np_players.ndim"
   ]
  },
  {
   "cell_type": "code",
   "execution_count": 22,
   "metadata": {},
   "outputs": [
    {
     "data": {
      "text/plain": [
       "(1015, 2)"
      ]
     },
     "execution_count": 22,
     "metadata": {},
     "output_type": "execute_result"
    }
   ],
   "source": [
    "np_players.shape"
   ]
  },
  {
   "cell_type": "code",
   "execution_count": 23,
   "metadata": {},
   "outputs": [
    {
     "data": {
      "text/plain": [
       "dtype('int64')"
      ]
     },
     "execution_count": 23,
     "metadata": {},
     "output_type": "execute_result"
    }
   ],
   "source": [
    "np_players.dtype"
   ]
  },
  {
   "cell_type": "code",
   "execution_count": 24,
   "metadata": {},
   "outputs": [],
   "source": [
    "# Convert the heights and weights in one go\n",
    "\n",
    "players_converted =  np_players * [0.0254, 0.453592]"
   ]
  },
  {
   "cell_type": "code",
   "execution_count": 25,
   "metadata": {},
   "outputs": [
    {
     "data": {
      "text/plain": [
       "array([[ 1.8796 , 81.64656],\n",
       "       [ 1.8796 , 97.52228],\n",
       "       [ 1.8288 , 95.25432],\n",
       "       ...,\n",
       "       [ 1.905  , 92.98636],\n",
       "       [ 1.905  , 86.18248],\n",
       "       [ 1.8542 , 88.45044]], shape=(1015, 2))"
      ]
     },
     "execution_count": 25,
     "metadata": {},
     "output_type": "execute_result"
    }
   ],
   "source": [
    "players_converted"
   ]
  },
  {
   "cell_type": "code",
   "execution_count": 26,
   "metadata": {},
   "outputs": [
    {
     "data": {
      "text/plain": [
       "array([ 1.8796 , 81.64656])"
      ]
     },
     "execution_count": 26,
     "metadata": {},
     "output_type": "execute_result"
    }
   ],
   "source": [
    "# Fetch the first row from the array\n",
    "\n",
    "players_converted[0]"
   ]
  },
  {
   "cell_type": "code",
   "execution_count": 27,
   "metadata": {},
   "outputs": [
    {
     "data": {
      "text/plain": [
       "np.float64(81.64656)"
      ]
     },
     "execution_count": 27,
     "metadata": {},
     "output_type": "execute_result"
    }
   ],
   "source": [
    "# Fetch the first row 2nd element\n",
    "\n",
    "players_converted[0][1]"
   ]
  },
  {
   "cell_type": "code",
   "execution_count": 28,
   "metadata": {},
   "outputs": [
    {
     "data": {
      "text/plain": [
       "np.float64(81.64656)"
      ]
     },
     "execution_count": 28,
     "metadata": {},
     "output_type": "execute_result"
    }
   ],
   "source": [
    "players_converted[0, 1]"
   ]
  },
  {
   "cell_type": "code",
   "execution_count": 29,
   "metadata": {},
   "outputs": [
    {
     "data": {
      "text/plain": [
       "array([[ 1.8796 , 81.64656],\n",
       "       [ 1.8796 , 97.52228],\n",
       "       [ 1.8288 , 95.25432],\n",
       "       ...,\n",
       "       [ 1.905  , 92.98636],\n",
       "       [ 1.905  , 86.18248],\n",
       "       [ 1.8542 , 88.45044]], shape=(1015, 2))"
      ]
     },
     "execution_count": 29,
     "metadata": {},
     "output_type": "execute_result"
    }
   ],
   "source": [
    "#Fetch the first column from the array\n",
    "\n",
    "players_converted"
   ]
  },
  {
   "cell_type": "code",
   "execution_count": 30,
   "metadata": {},
   "outputs": [
    {
     "data": {
      "text/plain": [
       "array([1.8796, 1.8796, 1.8288, ..., 1.905 , 1.905 , 1.8542], shape=(1015,))"
      ]
     },
     "execution_count": 30,
     "metadata": {},
     "output_type": "execute_result"
    }
   ],
   "source": [
    "players_converted[:, 0]  # It is [rows, columns]"
   ]
  },
  {
   "cell_type": "code",
   "execution_count": 31,
   "metadata": {},
   "outputs": [
    {
     "data": {
      "text/plain": [
       "array([[ 1.8796 , 81.64656],\n",
       "       [ 1.8796 , 97.52228],\n",
       "       [ 1.8288 , 95.25432],\n",
       "       ...,\n",
       "       [ 1.905  , 92.98636],\n",
       "       [ 1.905  , 86.18248],\n",
       "       [ 1.8542 , 88.45044]], shape=(1015, 2))"
      ]
     },
     "execution_count": 31,
     "metadata": {},
     "output_type": "execute_result"
    }
   ],
   "source": [
    "#Fetch the height of 125th player from the array\n",
    "\n",
    "players_converted"
   ]
  },
  {
   "cell_type": "code",
   "execution_count": 32,
   "metadata": {},
   "outputs": [
    {
     "data": {
      "text/plain": [
       "np.float64(1.9811999999999999)"
      ]
     },
     "execution_count": 32,
     "metadata": {},
     "output_type": "execute_result"
    }
   ],
   "source": [
    "players_converted[124, 0]"
   ]
  },
  {
   "cell_type": "code",
   "execution_count": 33,
   "metadata": {},
   "outputs": [
    {
     "data": {
      "text/plain": [
       "np.float64(91.33019058916256)"
      ]
     },
     "execution_count": 33,
     "metadata": {},
     "output_type": "execute_result"
    }
   ],
   "source": [
    "# Find the Average weight of the players\n",
    "\n",
    "players_converted[:, 1].mean() # It is [Rows, Columns] where [: , 1] \":\" indicates entire rows"
   ]
  },
  {
   "cell_type": "code",
   "execution_count": 34,
   "metadata": {},
   "outputs": [
    {
     "data": {
      "text/plain": [
       "array([[ 1.8796 , 81.64656],\n",
       "       [ 1.8796 , 97.52228],\n",
       "       [ 1.8288 , 95.25432],\n",
       "       ...,\n",
       "       [ 1.905  , 92.98636],\n",
       "       [ 1.905  , 86.18248],\n",
       "       [ 1.8542 , 88.45044]], shape=(1015, 2))"
      ]
     },
     "execution_count": 34,
     "metadata": {},
     "output_type": "execute_result"
    }
   ],
   "source": [
    "# extract all the rows of the first 3 columns in a 2D array?\n",
    "\n",
    "players_converted"
   ]
  },
  {
   "cell_type": "code",
   "execution_count": 35,
   "metadata": {},
   "outputs": [
    {
     "data": {
      "text/plain": [
       "array([[ 1.8796 , 81.64656],\n",
       "       [ 1.8796 , 97.52228],\n",
       "       [ 1.8288 , 95.25432],\n",
       "       ...,\n",
       "       [ 1.905  , 92.98636],\n",
       "       [ 1.905  , 86.18248],\n",
       "       [ 1.8542 , 88.45044]], shape=(1015, 2))"
      ]
     },
     "execution_count": 35,
     "metadata": {},
     "output_type": "execute_result"
    }
   ],
   "source": [
    "players_converted[ : , :2]\n"
   ]
  },
  {
   "cell_type": "code",
   "execution_count": 40,
   "metadata": {},
   "outputs": [
    {
     "data": {
      "text/plain": [
       "(936, 2)"
      ]
     },
     "execution_count": 40,
     "metadata": {},
     "output_type": "execute_result"
    }
   ],
   "source": [
    "# Fetch height and weight of the players with height above >1.8m\n",
    "# Always ensure to put conditions within the square brackets in numpy  \n",
    "\n",
    "\n",
    "tall_players = players_converted[players_converted[:, 0] > 1.8]\n",
    "\n",
    "players_converted.shape\n",
    "\n",
    "tall_players.shape\n",
    "\n"
   ]
  },
  {
   "cell_type": "code",
   "execution_count": 41,
   "metadata": {},
   "outputs": [
    {
     "data": {
      "text/plain": [
       "array(['Keeper', 'Batsman', 'Bowler', ..., 'Batsman', 'Bowler',\n",
       "       'Keeper-Batsman'], shape=(1015,), dtype='<U14')"
      ]
     },
     "execution_count": 41,
     "metadata": {},
     "output_type": "execute_result"
    }
   ],
   "source": [
    "# Skills of all the players\n",
    "\n",
    "skills = np.array(['Keeper', 'Batsman', 'Bowler', 'Keeper-Batsman', 'Batsman', 'Keeper-Batsman', 'Batsman', 'Batsman', 'Batsman', 'Bowler', 'Batsman', 'Batsman', 'Bowler', 'Bowler', 'Bowler', 'Batsman', 'Keeper-Batsman', 'Bowler', 'Keeper-Batsman', 'Batsman', 'Keeper', 'Keeper-Batsman', 'Keeper-Batsman', 'Batsman', 'Batsman', 'Batsman', 'Batsman', 'Keeper-Batsman', 'Batsman', 'Keeper', 'Keeper-Batsman', 'Keeper', 'Keeper-Batsman', 'Keeper-Batsman', 'Batsman', 'Bowler', 'Batsman', 'Keeper-Batsman', 'Batsman', 'Keeper', 'Batsman', 'Keeper', 'Bowler', 'Keeper-Batsman', 'Keeper', 'Bowler', 'Keeper', 'Keeper', 'Keeper', 'Keeper', 'Bowler', 'Keeper-Batsman', 'Bowler', 'Keeper-Batsman', 'Keeper-Batsman', 'Batsman', 'Keeper-Batsman', 'Batsman', 'Keeper-Batsman', 'Keeper-Batsman', 'Keeper', 'Keeper', 'Keeper-Batsman', 'Batsman', 'Batsman', 'Keeper', 'Batsman', 'Keeper-Batsman', 'Batsman', 'Batsman', 'Keeper-Batsman', 'Keeper-Batsman', 'Batsman', 'Batsman', 'Keeper-Batsman', 'Bowler', 'Bowler', 'Batsman', 'Batsman', 'Batsman', 'Bowler', 'Keeper-Batsman', 'Keeper-Batsman', 'Bowler', 'Bowler', 'Batsman', 'Batsman', 'Batsman', 'Keeper-Batsman', 'Keeper-Batsman', 'Bowler', 'Bowler', 'Keeper-Batsman', 'Batsman', 'Batsman', 'Batsman', 'Keeper-Batsman', 'Batsman', 'Batsman', 'Keeper-Batsman', 'Batsman', 'Bowler', 'Batsman', 'Batsman', 'Keeper', 'Batsman', 'Keeper-Batsman', 'Batsman', 'Batsman', 'Keeper-Batsman', 'Batsman', 'Batsman', 'Bowler', 'Keeper', 'Keeper-Batsman', 'Batsman', 'Keeper', 'Batsman', 'Batsman', 'Batsman', 'Batsman', 'Keeper-Batsman', 'Keeper-Batsman', 'Batsman', 'Keeper-Batsman', 'Batsman', 'Keeper-Batsman', 'Batsman', 'Batsman', 'Bowler', 'Batsman', 'Keeper', 'Bowler', 'Batsman', 'Keeper-Batsman', 'Batsman', 'Keeper-Batsman', 'Keeper', 'Keeper-Batsman', 'Keeper-Batsman', 'Batsman', 'Bowler', 'Keeper', 'Batsman', 'Keeper-Batsman', 'Bowler', 'Keeper-Batsman', 'Bowler', 'Bowler', 'Batsman', 'Keeper-Batsman', 'Batsman', 'Bowler', 'Keeper', 'Keeper-Batsman', 'Batsman', 'Keeper', 'Bowler', 'Keeper-Batsman', 'Keeper-Batsman', 'Keeper-Batsman', 'Keeper', 'Keeper', 'Batsman', 'Keeper-Batsman', 'Keeper', 'Keeper-Batsman', 'Batsman', 'Keeper', 'Bowler', 'Keeper-Batsman', 'Keeper', 'Keeper', 'Keeper-Batsman', 'Batsman', 'Keeper', 'Keeper-Batsman', 'Keeper-Batsman', 'Keeper-Batsman', 'Batsman', 'Keeper-Batsman', 'Batsman', 'Keeper-Batsman', 'Keeper-Batsman', 'Bowler', 'Keeper-Batsman', 'Keeper-Batsman', 'Keeper-Batsman', 'Batsman', 'Batsman', 'Bowler', 'Keeper-Batsman', 'Batsman', 'Batsman', 'Keeper-Batsman', 'Batsman', 'Bowler', 'Bowler', 'Keeper-Batsman', 'Bowler', 'Keeper', 'Batsman', 'Bowler', 'Bowler', 'Keeper-Batsman', 'Keeper-Batsman', 'Bowler', 'Keeper-Batsman', 'Keeper', 'Keeper-Batsman', 'Batsman', 'Keeper-Batsman', 'Keeper-Batsman', 'Batsman', 'Batsman', 'Keeper', 'Keeper-Batsman', 'Batsman', 'Keeper', 'Keeper', 'Keeper-Batsman', 'Batsman', 'Keeper-Batsman', 'Keeper-Batsman', 'Batsman', 'Bowler', 'Keeper-Batsman', 'Keeper-Batsman', 'Batsman', 'Bowler', 'Bowler', 'Bowler', 'Bowler', 'Bowler', 'Batsman', 'Keeper-Batsman', 'Keeper-Batsman', 'Bowler', 'Batsman', 'Keeper', 'Batsman', 'Keeper', 'Bowler', 'Bowler', 'Keeper', 'Batsman', 'Keeper-Batsman', 'Batsman', 'Keeper-Batsman', 'Keeper-Batsman', 'Batsman', 'Batsman', 'Bowler', 'Bowler', 'Keeper-Batsman', 'Keeper-Batsman', 'Keeper-Batsman', 'Batsman', 'Batsman', 'Keeper', 'Keeper-Batsman', 'Batsman', 'Batsman', 'Keeper-Batsman', 'Keeper-Batsman', 'Keeper-Batsman', 'Batsman', 'Batsman', 'Batsman', 'Keeper-Batsman', 'Batsman', 'Bowler', 'Bowler', 'Keeper-Batsman', 'Keeper-Batsman', 'Batsman', 'Keeper', 'Bowler', 'Keeper-Batsman', 'Keeper-Batsman', 'Keeper-Batsman', 'Keeper', 'Keeper-Batsman', 'Batsman', 'Keeper-Batsman', 'Bowler', 'Bowler', 'Keeper', 'Bowler', 'Keeper-Batsman', 'Batsman', 'Batsman', 'Keeper', 'Bowler', 'Bowler', 'Batsman', 'Keeper-Batsman', 'Bowler', 'Batsman', 'Batsman', 'Batsman', 'Keeper-Batsman', 'Keeper-Batsman', 'Keeper-Batsman', 'Batsman', 'Keeper-Batsman', 'Bowler', 'Batsman', 'Batsman', 'Batsman', 'Bowler', 'Batsman', 'Batsman', 'Keeper-Batsman', 'Batsman', 'Keeper-Batsman', 'Batsman', 'Batsman', 'Bowler', 'Keeper-Batsman', 'Keeper-Batsman', 'Batsman', 'Bowler', 'Keeper-Batsman', 'Keeper-Batsman', 'Batsman', 'Batsman', 'Batsman', 'Keeper-Batsman', 'Batsman', 'Keeper-Batsman', 'Bowler', 'Keeper-Batsman', 'Keeper-Batsman', 'Batsman', 'Keeper-Batsman', 'Bowler', 'Keeper-Batsman', 'Keeper-Batsman', 'Keeper', 'Batsman', 'Batsman', 'Batsman', 'Keeper', 'Batsman', 'Bowler', 'Keeper-Batsman', 'Keeper-Batsman', 'Batsman', 'Bowler', 'Keeper', 'Batsman', 'Keeper-Batsman', 'Bowler', 'Batsman', 'Bowler', 'Bowler', 'Bowler', 'Batsman', 'Keeper', 'Bowler', 'Bowler', 'Batsman', 'Bowler', 'Keeper-Batsman', 'Keeper-Batsman', 'Keeper-Batsman', 'Bowler', 'Keeper', 'Keeper-Batsman', 'Keeper-Batsman', 'Keeper-Batsman', 'Keeper-Batsman', 'Keeper', 'Bowler', 'Keeper', 'Keeper-Batsman', 'Keeper-Batsman', 'Batsman', 'Keeper', 'Keeper-Batsman', 'Keeper-Batsman', 'Keeper-Batsman', 'Bowler', 'Keeper-Batsman', 'Keeper-Batsman', 'Keeper', 'Keeper-Batsman', 'Keeper-Batsman', 'Keeper-Batsman', 'Keeper', 'Keeper-Batsman', 'Keeper', 'Bowler', 'Batsman', 'Bowler', 'Batsman', 'Bowler', 'Keeper-Batsman', 'Keeper-Batsman', 'Keeper-Batsman', 'Keeper', 'Keeper', 'Keeper', 'Batsman', 'Bowler', 'Batsman', 'Keeper-Batsman', 'Batsman', 'Bowler', 'Keeper', 'Batsman', 'Keeper-Batsman', 'Batsman', 'Batsman', 'Keeper-Batsman', 'Bowler', 'Keeper', 'Batsman', 'Bowler', 'Keeper', 'Keeper', 'Batsman', 'Bowler', 'Bowler', 'Batsman', 'Keeper', 'Keeper', 'Keeper-Batsman', 'Batsman', 'Bowler', 'Keeper-Batsman', 'Bowler', 'Keeper-Batsman', 'Keeper-Batsman', 'Bowler', 'Keeper-Batsman', 'Batsman', 'Keeper-Batsman', 'Keeper-Batsman', 'Batsman', 'Keeper-Batsman', 'Bowler', 'Keeper', 'Keeper-Batsman', 'Keeper-Batsman', 'Keeper', 'Bowler', 'Keeper-Batsman', 'Keeper-Batsman', 'Keeper', 'Keeper-Batsman', 'Bowler', 'Batsman', 'Bowler', 'Bowler', 'Keeper', 'Keeper-Batsman', 'Bowler', 'Keeper-Batsman', 'Bowler', 'Keeper-Batsman', 'Keeper', 'Keeper-Batsman', 'Keeper-Batsman', 'Bowler', 'Bowler', 'Batsman', 'Bowler', 'Keeper', 'Batsman', 'Keeper-Batsman', 'Bowler', 'Keeper-Batsman', 'Batsman', 'Batsman', 'Keeper-Batsman', 'Batsman', 'Keeper', 'Keeper-Batsman', 'Batsman', 'Bowler', 'Bowler', 'Batsman', 'Batsman', 'Batsman', 'Keeper', 'Keeper', 'Keeper-Batsman', 'Bowler', 'Batsman', 'Keeper', 'Keeper-Batsman', 'Batsman', 'Keeper', 'Batsman', 'Batsman', 'Keeper', 'Batsman', 'Keeper-Batsman', 'Bowler', 'Keeper-Batsman', 'Batsman', 'Batsman', 'Bowler', 'Batsman', 'Keeper', 'Bowler', 'Keeper', 'Bowler', 'Batsman', 'Keeper', 'Keeper', 'Keeper-Batsman', 'Keeper-Batsman', 'Batsman', 'Batsman', 'Keeper-Batsman', 'Keeper', 'Bowler', 'Batsman', 'Keeper', 'Bowler', 'Keeper', 'Keeper-Batsman', 'Keeper-Batsman', 'Batsman', 'Batsman', 'Batsman', 'Keeper-Batsman', 'Batsman', 'Batsman', 'Keeper', 'Batsman', 'Keeper-Batsman', 'Batsman', 'Keeper-Batsman', 'Keeper', 'Batsman', 'Bowler', 'Keeper', 'Bowler', 'Batsman', 'Batsman', 'Bowler', 'Batsman', 'Batsman', 'Bowler', 'Bowler', 'Bowler', 'Batsman', 'Keeper', 'Keeper-Batsman', 'Keeper-Batsman', 'Batsman', 'Keeper-Batsman', 'Keeper', 'Keeper-Batsman', 'Batsman', 'Batsman', 'Batsman', 'Bowler', 'Keeper-Batsman', 'Bowler', 'Keeper-Batsman', 'Bowler', 'Batsman', 'Batsman', 'Keeper-Batsman', 'Batsman', 'Batsman', 'Keeper-Batsman', 'Keeper-Batsman', 'Keeper', 'Batsman', 'Bowler', 'Keeper', 'Bowler', 'Bowler', 'Batsman', 'Keeper-Batsman', 'Keeper', 'Keeper-Batsman', 'Batsman', 'Batsman', 'Keeper', 'Keeper', 'Keeper-Batsman', 'Keeper-Batsman', 'Batsman', 'Keeper-Batsman', 'Batsman', 'Batsman', 'Batsman', 'Batsman', 'Keeper', 'Batsman', 'Keeper-Batsman', 'Batsman', 'Keeper-Batsman', 'Keeper', 'Bowler', 'Batsman', 'Keeper-Batsman', 'Batsman', 'Bowler', 'Bowler', 'Keeper-Batsman', 'Keeper-Batsman', 'Keeper-Batsman', 'Batsman', 'Keeper', 'Keeper-Batsman', 'Bowler', 'Batsman', 'Keeper-Batsman', 'Bowler', 'Keeper', 'Batsman', 'Keeper-Batsman', 'Batsman', 'Keeper-Batsman', 'Bowler', 'Bowler', 'Batsman', 'Bowler', 'Keeper-Batsman', 'Keeper-Batsman', 'Batsman', 'Bowler', 'Batsman', 'Batsman', 'Bowler', 'Keeper-Batsman', 'Keeper', 'Bowler', 'Batsman', 'Keeper-Batsman', 'Batsman', 'Bowler', 'Keeper-Batsman', 'Keeper-Batsman', 'Keeper-Batsman', 'Keeper', 'Keeper-Batsman', 'Batsman', 'Keeper', 'Batsman', 'Batsman', 'Keeper', 'Batsman', 'Batsman', 'Keeper-Batsman', 'Batsman', 'Keeper-Batsman', 'Keeper-Batsman', 'Batsman', 'Keeper-Batsman', 'Bowler', 'Batsman', 'Keeper-Batsman', 'Keeper-Batsman', 'Keeper', 'Keeper-Batsman', 'Batsman', 'Batsman', 'Keeper', 'Keeper', 'Batsman', 'Keeper-Batsman', 'Keeper-Batsman', 'Bowler', 'Keeper', 'Keeper-Batsman', 'Keeper-Batsman', 'Keeper-Batsman', 'Keeper', 'Bowler', 'Bowler', 'Keeper-Batsman', 'Bowler', 'Keeper-Batsman', 'Batsman', 'Keeper-Batsman', 'Keeper-Batsman', 'Bowler', 'Batsman', 'Keeper', 'Keeper-Batsman', 'Batsman', 'Keeper-Batsman', 'Batsman', 'Bowler', 'Bowler', 'Keeper', 'Batsman', 'Keeper-Batsman', 'Bowler', 'Keeper-Batsman', 'Keeper-Batsman', 'Batsman', 'Bowler', 'Bowler', 'Keeper-Batsman', 'Batsman', 'Batsman', 'Keeper-Batsman', 'Bowler', 'Keeper-Batsman', 'Batsman', 'Bowler', 'Batsman', 'Keeper-Batsman', 'Keeper-Batsman', 'Keeper-Batsman', 'Bowler', 'Keeper', 'Keeper-Batsman', 'Keeper-Batsman', 'Batsman', 'Batsman', 'Bowler', 'Batsman', 'Bowler', 'Keeper-Batsman', 'Batsman', 'Bowler', 'Bowler', 'Keeper', 'Bowler', 'Keeper-Batsman', 'Bowler', 'Batsman', 'Bowler', 'Keeper-Batsman', 'Keeper-Batsman', 'Keeper-Batsman', 'Keeper', 'Bowler', 'Keeper-Batsman', 'Keeper-Batsman', 'Keeper-Batsman', 'Bowler', 'Bowler', 'Bowler', 'Batsman', 'Keeper', 'Keeper', 'Keeper-Batsman', 'Bowler', 'Keeper', 'Keeper-Batsman', 'Bowler', 'Batsman', 'Batsman', 'Keeper-Batsman', 'Keeper', 'Batsman', 'Bowler', 'Batsman', 'Keeper-Batsman', 'Batsman', 'Batsman', 'Batsman', 'Keeper-Batsman', 'Bowler', 'Keeper', 'Keeper', 'Keeper-Batsman', 'Batsman', 'Keeper-Batsman', 'Keeper-Batsman', 'Keeper-Batsman', 'Batsman', 'Keeper', 'Batsman', 'Keeper-Batsman', 'Keeper-Batsman', 'Keeper-Batsman', 'Bowler', 'Bowler', 'Keeper', 'Keeper-Batsman', 'Keeper-Batsman', 'Batsman', 'Batsman', 'Keeper-Batsman', 'Keeper-Batsman', 'Batsman', 'Batsman', 'Keeper-Batsman', 'Bowler', 'Batsman', 'Keeper-Batsman', 'Batsman', 'Batsman', 'Batsman', 'Bowler', 'Keeper', 'Keeper-Batsman', 'Keeper-Batsman', 'Keeper-Batsman', 'Bowler', 'Batsman', 'Batsman', 'Bowler', 'Batsman', 'Batsman', 'Keeper-Batsman', 'Batsman', 'Keeper-Batsman', 'Batsman', 'Bowler', 'Keeper-Batsman', 'Keeper-Batsman', 'Batsman', 'Batsman', 'Batsman', 'Keeper-Batsman', 'Batsman', 'Batsman', 'Keeper-Batsman', 'Batsman', 'Batsman', 'Batsman', 'Keeper-Batsman', 'Keeper-Batsman', 'Bowler', 'Keeper-Batsman', 'Bowler', 'Bowler', 'Keeper-Batsman', 'Keeper-Batsman', 'Batsman', 'Batsman', 'Bowler', 'Bowler', 'Keeper', 'Bowler', 'Keeper', 'Batsman', 'Batsman', 'Keeper', 'Keeper-Batsman', 'Keeper', 'Bowler', 'Keeper', 'Keeper-Batsman', 'Batsman', 'Keeper', 'Batsman', 'Keeper-Batsman', 'Keeper-Batsman', 'Keeper-Batsman', 'Keeper', 'Batsman', 'Keeper', 'Keeper-Batsman', 'Keeper-Batsman', 'Keeper-Batsman', 'Keeper-Batsman', 'Keeper', 'Bowler', 'Batsman', 'Batsman', 'Keeper-Batsman', 'Keeper', 'Keeper', 'Keeper', 'Keeper-Batsman', 'Keeper-Batsman', 'Batsman', 'Keeper-Batsman', 'Keeper-Batsman', 'Keeper', 'Keeper-Batsman', 'Bowler', 'Keeper-Batsman', 'Batsman', 'Keeper-Batsman', 'Keeper-Batsman', 'Keeper-Batsman', 'Batsman', 'Keeper-Batsman', 'Batsman', 'Keeper-Batsman', 'Batsman', 'Keeper-Batsman', 'Keeper-Batsman', 'Batsman', 'Batsman', 'Keeper-Batsman', 'Keeper-Batsman', 'Bowler', 'Batsman', 'Keeper-Batsman', 'Batsman', 'Bowler', 'Batsman', 'Keeper-Batsman', 'Bowler', 'Batsman', 'Keeper-Batsman', 'Keeper', 'Keeper-Batsman', 'Keeper-Batsman', 'Bowler', 'Keeper-Batsman', 'Batsman', 'Keeper-Batsman', 'Keeper', 'Bowler', 'Keeper-Batsman', 'Bowler', 'Batsman', 'Bowler', 'Bowler', 'Keeper', 'Keeper-Batsman', 'Batsman', 'Keeper-Batsman', 'Bowler', 'Keeper-Batsman', 'Bowler', 'Batsman', 'Batsman', 'Keeper-Batsman', 'Keeper-Batsman', 'Keeper-Batsman', 'Bowler', 'Keeper', 'Bowler', 'Keeper-Batsman', 'Batsman', 'Batsman', 'Batsman', 'Keeper-Batsman', 'Bowler', 'Bowler', 'Keeper-Batsman', 'Keeper-Batsman', 'Batsman', 'Keeper-Batsman', 'Keeper-Batsman', 'Keeper-Batsman', 'Keeper', 'Keeper-Batsman', 'Batsman', 'Keeper-Batsman', 'Keeper-Batsman', 'Bowler', 'Keeper-Batsman', 'Batsman', 'Batsman', 'Batsman', 'Batsman', 'Bowler', 'Batsman', 'Batsman', 'Keeper-Batsman', 'Bowler', 'Batsman', 'Keeper-Batsman', 'Batsman', 'Batsman', 'Batsman', 'Batsman', 'Batsman', 'Keeper', 'Keeper-Batsman', 'Batsman', 'Bowler', 'Keeper-Batsman', 'Keeper-Batsman', 'Batsman', 'Batsman', 'Batsman', 'Bowler', 'Batsman', 'Keeper', 'Bowler', 'Bowler', 'Keeper', 'Bowler', 'Bowler', 'Keeper', 'Batsman', 'Keeper-Batsman', 'Batsman', 'Keeper-Batsman', 'Bowler', 'Keeper-Batsman', 'Keeper-Batsman', 'Batsman', 'Keeper-Batsman', 'Batsman', 'Keeper-Batsman', 'Keeper-Batsman', 'Batsman', 'Keeper-Batsman', 'Keeper-Batsman', 'Bowler', 'Bowler', 'Bowler', 'Batsman', 'Bowler', 'Keeper-Batsman', 'Keeper-Batsman', 'Batsman', 'Bowler', 'Keeper', 'Keeper-Batsman', 'Batsman', 'Bowler', 'Keeper-Batsman'])\n",
    "skills"
   ]
  },
  {
   "cell_type": "code",
   "execution_count": 42,
   "metadata": {},
   "outputs": [],
   "source": [
    "# Fetch Heights of the Batsman\n",
    "\n",
    "batsmen =  players_converted[skills == 'Batsman']"
   ]
  },
  {
   "cell_type": "code",
   "execution_count": 43,
   "metadata": {},
   "outputs": [
    {
     "data": {
      "text/plain": [
       "array([[  1.8796  ,  97.52228 ],\n",
       "       [  1.8542  ,  85.275296],\n",
       "       [  1.7526  ,  94.800728],\n",
       "       [  1.8034  ,  90.7184  ],\n",
       "       [  1.9304  , 104.779752],\n",
       "       [  1.8542  ,  85.275296],\n",
       "       [  1.8542  ,  81.64656 ],\n",
       "       [  1.778   ,  83.91452 ],\n",
       "       [  2.0066  , 104.32616 ],\n",
       "       [  1.8288  ,  81.64656 ],\n",
       "       [  1.8034  ,  87.089664],\n",
       "       [  1.905   , 102.0582  ],\n",
       "       [  1.9558  ,  92.079176],\n",
       "       [  1.8542  ,  82.553744],\n",
       "       [  1.905   , 111.13004 ],\n",
       "       [  1.8796  ,  97.52228 ],\n",
       "       [  1.8034  ,  79.3786  ],\n",
       "       [  1.8542  ,  90.7184  ],\n",
       "       [  1.8796  ,  92.98636 ],\n",
       "       [  1.9304  ,  88.45044 ],\n",
       "       [  1.905   ,  95.25432 ],\n",
       "       [  1.9304  ,  86.18248 ],\n",
       "       [  1.8288  ,  81.64656 ],\n",
       "       [  1.905   ,  95.25432 ],\n",
       "       [  1.8542  ,  99.79024 ],\n",
       "       [  1.778   ,  81.64656 ],\n",
       "       [  1.778   ,  86.18248 ],\n",
       "       [  1.8034  ,  83.91452 ],\n",
       "       [  1.8288  ,  83.91452 ],\n",
       "       [  1.905   ,  90.7184  ],\n",
       "       [  1.9812  , 106.59412 ],\n",
       "       [  1.8034  , 113.398   ],\n",
       "       [  1.8542  ,  95.25432 ],\n",
       "       [  1.8542  ,  88.45044 ],\n",
       "       [  1.9304  ,  92.98636 ],\n",
       "       [  1.8796  ,  99.79024 ],\n",
       "       [  1.8542  ,  77.11064 ],\n",
       "       [  1.8288  ,  83.91452 ],\n",
       "       [  1.8542  ,  99.79024 ],\n",
       "       [  1.8288  ,  81.64656 ],\n",
       "       [  1.8542  ,  99.79024 ],\n",
       "       [  1.8288  ,  81.64656 ],\n",
       "       [  1.905   ,  95.25432 ],\n",
       "       [  1.905   ,  97.52228 ],\n",
       "       [  1.8288  ,  96.615096],\n",
       "       [  1.8288  ,  81.64656 ],\n",
       "       [  1.9558  , 106.59412 ],\n",
       "       [  1.9558  , 100.697424],\n",
       "       [  1.905   ,  95.25432 ],\n",
       "       [  1.9304  , 104.32616 ],\n",
       "       [  2.032   ,  99.79024 ],\n",
       "       [  1.905   ,  90.7184  ],\n",
       "       [  1.8542  ,  87.996848],\n",
       "       [  1.8796  ,  86.18248 ],\n",
       "       [  1.905   , 108.86208 ],\n",
       "       [  1.8034  ,  89.811216],\n",
       "       [  1.9304  ,  95.25432 ],\n",
       "       [  1.8796  ,  86.18248 ],\n",
       "       [  1.8542  ,  77.11064 ],\n",
       "       [  1.8542  ,  81.64656 ],\n",
       "       [  1.8034  ,  86.18248 ],\n",
       "       [  1.8542  ,  86.18248 ],\n",
       "       [  1.8542  ,  79.3786  ],\n",
       "       [  1.8288  ,  92.98636 ],\n",
       "       [  1.905   ,  97.52228 ],\n",
       "       [  1.778   ,  81.64656 ],\n",
       "       [  1.8034  ,  77.11064 ],\n",
       "       [  1.8288  ,  92.98636 ],\n",
       "       [  1.905   , 102.0582  ],\n",
       "       [  1.8542  ,  81.64656 ],\n",
       "       [  1.9304  , 107.501304],\n",
       "       [  1.905   ,  97.52228 ],\n",
       "       [  1.9304  , 106.59412 ],\n",
       "       [  1.8288  ,  86.18248 ],\n",
       "       [  1.8542  ,  94.347136],\n",
       "       [  1.905   ,  95.25432 ],\n",
       "       [  1.8796  ,  86.18248 ],\n",
       "       [  1.8034  ,  77.11064 ],\n",
       "       [  1.9558  , 102.0582  ],\n",
       "       [  1.9812  , 104.32616 ],\n",
       "       [  1.905   , 102.511792],\n",
       "       [  1.905   ,  99.336648],\n",
       "       [  1.9304  , 102.0582  ],\n",
       "       [  1.8288  ,  79.832192],\n",
       "       [  1.8288  ,  81.64656 ],\n",
       "       [  1.8542  ,  99.79024 ],\n",
       "       [  1.8796  ,  86.18248 ],\n",
       "       [  1.8796  ,  92.98636 ],\n",
       "       [  1.905   ,  92.98636 ],\n",
       "       [  1.8542  ,  95.707912],\n",
       "       [  1.8796  ,  90.7184  ],\n",
       "       [  1.9558  ,  95.25432 ],\n",
       "       [  1.9812  ,  99.79024 ],\n",
       "       [  1.9812  ,  95.25432 ],\n",
       "       [  1.8796  ,  91.625584],\n",
       "       [  1.9812  , 102.0582  ],\n",
       "       [  1.8796  ,  99.79024 ],\n",
       "       [  1.8288  ,  83.91452 ],\n",
       "       [  1.9304  ,  88.45044 ],\n",
       "       [  1.8542  ,  99.336648],\n",
       "       [  1.8542  ,  88.45044 ],\n",
       "       [  1.9558  ,  99.79024 ],\n",
       "       [  1.9558  , 106.59412 ],\n",
       "       [  1.8034  ,  81.64656 ],\n",
       "       [  1.9812  , 104.32616 ],\n",
       "       [  1.778   ,  86.18248 ],\n",
       "       [  1.8796  ,  86.18248 ],\n",
       "       [  1.8288  ,  90.7184  ],\n",
       "       [  1.8542  ,  83.460928],\n",
       "       [  1.905   ,  90.7184  ],\n",
       "       [  1.8796  ,  99.336648],\n",
       "       [  1.8542  ,  90.7184  ],\n",
       "       [  1.8796  ,  99.79024 ],\n",
       "       [  1.8542  ,  72.57472 ],\n",
       "       [  1.9812  ,  90.7184  ],\n",
       "       [  1.9304  ,  97.068688],\n",
       "       [  1.8542  ,  90.7184  ],\n",
       "       [  1.905   ,  81.64656 ],\n",
       "       [  1.9812  , 106.59412 ],\n",
       "       [  1.9558  , 108.86208 ],\n",
       "       [  1.8288  ,  83.91452 ],\n",
       "       [  1.7526  ,  74.84268 ],\n",
       "       [  1.8796  ,  83.91452 ],\n",
       "       [  1.778   ,  77.11064 ],\n",
       "       [  1.8796  ,  95.25432 ],\n",
       "       [  1.9304  ,  92.98636 ],\n",
       "       [  1.905   ,  90.7184  ],\n",
       "       [  1.8542  ,  86.18248 ],\n",
       "       [  1.8542  ,  72.57472 ],\n",
       "       [  1.8542  ,  81.64656 ],\n",
       "       [  1.8796  ,  81.64656 ],\n",
       "       [  1.8796  ,  90.7184  ],\n",
       "       [  1.778   ,  86.18248 ],\n",
       "       [  1.8796  , 102.965384],\n",
       "       [  1.905   ,  90.264808],\n",
       "       [  1.8288  ,  83.91452 ],\n",
       "       [  1.9558  , 108.86208 ],\n",
       "       [  1.8542  , 102.0582  ],\n",
       "       [  1.9304  , 104.32616 ],\n",
       "       [  1.8542  ,  90.7184  ],\n",
       "       [  1.905   , 111.13004 ],\n",
       "       [  1.8796  ,  86.18248 ],\n",
       "       [  1.8542  ,  95.25432 ],\n",
       "       [  1.8034  ,  90.7184  ],\n",
       "       [  1.9304  ,  92.98636 ],\n",
       "       [  1.905   ,  95.25432 ],\n",
       "       [  1.8542  ,  77.11064 ],\n",
       "       [  1.8542  ,  81.64656 ],\n",
       "       [  1.9304  ,  95.25432 ],\n",
       "       [  1.8542  ,  93.439952],\n",
       "       [  1.905   ,  88.45044 ],\n",
       "       [  1.905   ,  90.7184  ],\n",
       "       [  1.9558  ,  90.7184  ],\n",
       "       [  1.8796  ,  92.98636 ],\n",
       "       [  1.8034  ,  95.25432 ],\n",
       "       [  1.8796  ,  90.7184  ],\n",
       "       [  1.8796  ,  92.98636 ],\n",
       "       [  1.905   ,  86.18248 ],\n",
       "       [  1.8288  ,  92.98636 ],\n",
       "       [  1.8542  ,  79.3786  ],\n",
       "       [  1.9304  ,  99.79024 ],\n",
       "       [  1.9558  , 111.13004 ],\n",
       "       [  1.8542  ,  81.64656 ],\n",
       "       [  1.778   ,  88.45044 ],\n",
       "       [  1.8542  ,  97.52228 ],\n",
       "       [  1.8796  ,  81.64656 ],\n",
       "       [  1.9558  ,  86.18248 ],\n",
       "       [  1.905   ,  86.18248 ],\n",
       "       [  1.8542  ,  95.25432 ],\n",
       "       [  1.9558  , 115.66596 ],\n",
       "       [  1.9558  , 104.32616 ],\n",
       "       [  1.8796  ,  92.98636 ],\n",
       "       [  1.8796  ,  97.52228 ],\n",
       "       [  1.905   ,  99.79024 ],\n",
       "       [  1.8034  ,  89.357624],\n",
       "       [  1.778   ,  84.821704],\n",
       "       [  2.0066  , 111.13004 ],\n",
       "       [  1.8796  ,  90.7184  ],\n",
       "       [  1.8288  ,  90.7184  ],\n",
       "       [  2.0828  , 104.779752],\n",
       "       [  1.8796  ,  74.84268 ],\n",
       "       [  1.8796  , 103.418976],\n",
       "       [  1.8288  ,  97.52228 ],\n",
       "       [  1.9304  , 115.212368],\n",
       "       [  1.8542  ,  81.64656 ],\n",
       "       [  1.8288  ,  97.52228 ],\n",
       "       [  1.8288  ,  77.11064 ],\n",
       "       [  1.778   ,  74.84268 ],\n",
       "       [  1.8034  ,  77.11064 ],\n",
       "       [  1.905   , 101.604608],\n",
       "       [  1.9304  , 108.408488],\n",
       "       [  1.9304  ,  95.25432 ],\n",
       "       [  1.9812  ,  99.79024 ],\n",
       "       [  1.905   ,  90.7184  ],\n",
       "       [  1.9304  ,  88.45044 ],\n",
       "       [  1.8288  , 104.32616 ],\n",
       "       [  1.8542  ,  99.79024 ],\n",
       "       [  1.778   ,  87.089664],\n",
       "       [  1.8796  ,  92.98636 ],\n",
       "       [  1.8542  ,  92.98636 ],\n",
       "       [  1.8542  ,  83.91452 ],\n",
       "       [  1.905   ,  92.98636 ],\n",
       "       [  1.778   ,  81.64656 ],\n",
       "       [  2.0066  , 108.86208 ],\n",
       "       [  1.905   ,  97.52228 ],\n",
       "       [  1.905   ,  88.45044 ],\n",
       "       [  1.8542  ,  97.52228 ],\n",
       "       [  1.778   ,  88.45044 ],\n",
       "       [  1.8034  ,  88.45044 ],\n",
       "       [  1.905   ,  95.25432 ],\n",
       "       [  1.8288  ,  81.64656 ],\n",
       "       [  1.8288  ,  81.64656 ],\n",
       "       [  1.9304  , 106.59412 ],\n",
       "       [  1.905   ,  90.7184  ],\n",
       "       [  1.7526  ,  81.64656 ],\n",
       "       [  1.8288  ,  92.079176],\n",
       "       [  1.9304  ,  90.7184  ],\n",
       "       [  1.8034  ,  86.18248 ],\n",
       "       [  1.905   ,  77.11064 ],\n",
       "       [  1.9558  ,  97.52228 ],\n",
       "       [  1.778   ,  81.64656 ],\n",
       "       [  1.8288  ,  84.821704],\n",
       "       [  1.8034  ,  81.64656 ],\n",
       "       [  1.8796  ,  95.25432 ],\n",
       "       [  1.9304  ,  87.543256],\n",
       "       [  1.8288  ,  90.7184  ],\n",
       "       [  1.8796  ,  77.11064 ],\n",
       "       [  1.8288  ,  88.45044 ],\n",
       "       [  1.8034  ,  86.18248 ],\n",
       "       [  1.778   ,  81.64656 ],\n",
       "       [  1.8288  ,  77.11064 ],\n",
       "       [  1.8796  ,  95.25432 ],\n",
       "       [  1.8796  ,  99.79024 ],\n",
       "       [  1.905   ,  95.25432 ],\n",
       "       [  1.8796  , 111.13004 ],\n",
       "       [  1.8034  , 100.243832],\n",
       "       [  1.8034  ,  83.91452 ],\n",
       "       [  1.9304  , 104.32616 ],\n",
       "       [  1.8034  ,  79.3786  ],\n",
       "       [  1.8796  ,  90.7184  ],\n",
       "       [  1.8288  ,  90.7184  ],\n",
       "       [  1.9304  , 113.398   ],\n",
       "       [  1.9812  ,  95.25432 ],\n",
       "       [  1.8288  ,  97.52228 ],\n",
       "       [  1.9304  ,  97.52228 ],\n",
       "       [  1.778   ,  89.811216],\n",
       "       [  1.7272  ,  75.749864],\n",
       "       [  1.8034  ,  86.18248 ],\n",
       "       [  1.9558  ,  97.52228 ],\n",
       "       [  1.7526  ,  72.57472 ],\n",
       "       [  1.905   ,  79.3786  ],\n",
       "       [  1.905   ,  86.18248 ],\n",
       "       [  1.9304  , 108.86208 ],\n",
       "       [  1.8288  ,  79.3786  ],\n",
       "       [  1.9558  , 113.398   ],\n",
       "       [  1.778   ,  86.18248 ],\n",
       "       [  2.0066  ,  86.18248 ],\n",
       "       [  1.8796  ,  77.11064 ],\n",
       "       [  1.7272  ,  68.0388  ],\n",
       "       [  1.905   ,  99.79024 ],\n",
       "       [  1.8288  , 117.93392 ],\n",
       "       [  1.8288  ,  88.45044 ],\n",
       "       [  1.8542  ,  86.18248 ],\n",
       "       [  1.8796  ,  81.64656 ],\n",
       "       [  1.8288  ,  88.45044 ],\n",
       "       [  1.905   ,  99.336648],\n",
       "       [  1.8288  , 102.0582  ],\n",
       "       [  1.8542  ,  96.161504],\n",
       "       [  1.9304  ,  86.18248 ],\n",
       "       [  1.8796  ,  96.161504],\n",
       "       [  1.905   ,  95.25432 ],\n",
       "       [  1.9304  ,  90.7184  ],\n",
       "       [  1.8796  ,  99.79024 ],\n",
       "       [  1.8288  ,  83.91452 ],\n",
       "       [  1.8542  , 104.779752],\n",
       "       [  1.8288  ,  83.91452 ],\n",
       "       [  1.8542  ,  81.64656 ],\n",
       "       [  1.8288  ,  99.79024 ],\n",
       "       [  1.8542  ,  88.904032],\n",
       "       [  1.778   ,  72.57472 ],\n",
       "       [  1.8288  ,  92.98636 ],\n",
       "       [  1.905   ,  95.25432 ],\n",
       "       [  1.8542  ,  90.7184  ],\n",
       "       [  1.9304  , 116.573144],\n",
       "       [  1.9558  ,  92.98636 ],\n",
       "       [  1.9558  ,  94.347136],\n",
       "       [  1.905   ,  97.52228 ],\n",
       "       [  1.905   ,  95.25432 ],\n",
       "       [  1.9304  ,  92.079176],\n",
       "       [  1.8288  ,  95.25432 ],\n",
       "       [  1.8542  ,  90.7184  ],\n",
       "       [  1.8796  ,  92.98636 ],\n",
       "       [  1.8288  ,  86.18248 ],\n",
       "       [  1.8796  , 102.0582  ],\n",
       "       [  1.8796  ,  93.893544],\n",
       "       [  1.905   ,  96.161504],\n",
       "       [  1.8034  ,  95.25432 ],\n",
       "       [  1.9304  ,  86.18248 ],\n",
       "       [  1.8542  ,  97.52228 ],\n",
       "       [  1.7272  ,  88.904032],\n",
       "       [  1.8288  ,  79.3786  ],\n",
       "       [  1.7526  ,  79.3786  ],\n",
       "       [  1.8542  ,  92.98636 ],\n",
       "       [  1.905   ,  95.25432 ],\n",
       "       [  1.8796  ,  89.357624],\n",
       "       [  1.8796  , 103.418976],\n",
       "       [  1.8796  ,  86.18248 ],\n",
       "       [  1.8542  ,  92.532768],\n",
       "       [  1.8796  ,  74.84268 ],\n",
       "       [  1.905   ,  97.975872],\n",
       "       [  1.8796  ,  95.25432 ],\n",
       "       [  1.8542  ,  97.52228 ],\n",
       "       [  1.9304  , 103.872568],\n",
       "       [  1.9812  , 108.86208 ],\n",
       "       [  1.8542  ,  92.98636 ],\n",
       "       [  1.905   , 102.0582  ],\n",
       "       [  1.7018  ,  81.64656 ],\n",
       "       [  1.778   ,  73.935496],\n",
       "       [  1.778   ,  79.3786  ],\n",
       "       [  2.0066  ,  92.98636 ],\n",
       "       [  1.9304  ,  95.707912],\n",
       "       [  1.8288  ,  81.64656 ],\n",
       "       [  1.905   ,  92.98636 ]])"
      ]
     },
     "execution_count": 43,
     "metadata": {},
     "output_type": "execute_result"
    }
   ],
   "source": [
    "batsmen"
   ]
  },
  {
   "cell_type": "code",
   "execution_count": 44,
   "metadata": {},
   "outputs": [
    {
     "data": {
      "text/plain": [
       "(323, 2)"
      ]
     },
     "execution_count": 44,
     "metadata": {},
     "output_type": "execute_result"
    }
   ],
   "source": [
    "batsmen.shape"
   ]
  },
  {
   "cell_type": "code",
   "execution_count": 45,
   "metadata": {},
   "outputs": [
    {
     "data": {
      "text/plain": [
       "array([1.8796, 1.8542, 1.7526, 1.8034, 1.9304, 1.8542, 1.8542, 1.778 ,\n",
       "       2.0066, 1.8288, 1.8034, 1.905 , 1.9558, 1.8542, 1.905 , 1.8796,\n",
       "       1.8034, 1.8542, 1.8796, 1.9304, 1.905 , 1.9304, 1.8288, 1.905 ,\n",
       "       1.8542, 1.778 , 1.778 , 1.8034, 1.8288, 1.905 , 1.9812, 1.8034,\n",
       "       1.8542, 1.8542, 1.9304, 1.8796, 1.8542, 1.8288, 1.8542, 1.8288,\n",
       "       1.8542, 1.8288, 1.905 , 1.905 , 1.8288, 1.8288, 1.9558, 1.9558,\n",
       "       1.905 , 1.9304, 2.032 , 1.905 , 1.8542, 1.8796, 1.905 , 1.8034,\n",
       "       1.9304, 1.8796, 1.8542, 1.8542, 1.8034, 1.8542, 1.8542, 1.8288,\n",
       "       1.905 , 1.778 , 1.8034, 1.8288, 1.905 , 1.8542, 1.9304, 1.905 ,\n",
       "       1.9304, 1.8288, 1.8542, 1.905 , 1.8796, 1.8034, 1.9558, 1.9812,\n",
       "       1.905 , 1.905 , 1.9304, 1.8288, 1.8288, 1.8542, 1.8796, 1.8796,\n",
       "       1.905 , 1.8542, 1.8796, 1.9558, 1.9812, 1.9812, 1.8796, 1.9812,\n",
       "       1.8796, 1.8288, 1.9304, 1.8542, 1.8542, 1.9558, 1.9558, 1.8034,\n",
       "       1.9812, 1.778 , 1.8796, 1.8288, 1.8542, 1.905 , 1.8796, 1.8542,\n",
       "       1.8796, 1.8542, 1.9812, 1.9304, 1.8542, 1.905 , 1.9812, 1.9558,\n",
       "       1.8288, 1.7526, 1.8796, 1.778 , 1.8796, 1.9304, 1.905 , 1.8542,\n",
       "       1.8542, 1.8542, 1.8796, 1.8796, 1.778 , 1.8796, 1.905 , 1.8288,\n",
       "       1.9558, 1.8542, 1.9304, 1.8542, 1.905 , 1.8796, 1.8542, 1.8034,\n",
       "       1.9304, 1.905 , 1.8542, 1.8542, 1.9304, 1.8542, 1.905 , 1.905 ,\n",
       "       1.9558, 1.8796, 1.8034, 1.8796, 1.8796, 1.905 , 1.8288, 1.8542,\n",
       "       1.9304, 1.9558, 1.8542, 1.778 , 1.8542, 1.8796, 1.9558, 1.905 ,\n",
       "       1.8542, 1.9558, 1.9558, 1.8796, 1.8796, 1.905 , 1.8034, 1.778 ,\n",
       "       2.0066, 1.8796, 1.8288, 2.0828, 1.8796, 1.8796, 1.8288, 1.9304,\n",
       "       1.8542, 1.8288, 1.8288, 1.778 , 1.8034, 1.905 , 1.9304, 1.9304,\n",
       "       1.9812, 1.905 , 1.9304, 1.8288, 1.8542, 1.778 , 1.8796, 1.8542,\n",
       "       1.8542, 1.905 , 1.778 , 2.0066, 1.905 , 1.905 , 1.8542, 1.778 ,\n",
       "       1.8034, 1.905 , 1.8288, 1.8288, 1.9304, 1.905 , 1.7526, 1.8288,\n",
       "       1.9304, 1.8034, 1.905 , 1.9558, 1.778 , 1.8288, 1.8034, 1.8796,\n",
       "       1.9304, 1.8288, 1.8796, 1.8288, 1.8034, 1.778 , 1.8288, 1.8796,\n",
       "       1.8796, 1.905 , 1.8796, 1.8034, 1.8034, 1.9304, 1.8034, 1.8796,\n",
       "       1.8288, 1.9304, 1.9812, 1.8288, 1.9304, 1.778 , 1.7272, 1.8034,\n",
       "       1.9558, 1.7526, 1.905 , 1.905 , 1.9304, 1.8288, 1.9558, 1.778 ,\n",
       "       2.0066, 1.8796, 1.7272, 1.905 , 1.8288, 1.8288, 1.8542, 1.8796,\n",
       "       1.8288, 1.905 , 1.8288, 1.8542, 1.9304, 1.8796, 1.905 , 1.9304,\n",
       "       1.8796, 1.8288, 1.8542, 1.8288, 1.8542, 1.8288, 1.8542, 1.778 ,\n",
       "       1.8288, 1.905 , 1.8542, 1.9304, 1.9558, 1.9558, 1.905 , 1.905 ,\n",
       "       1.9304, 1.8288, 1.8542, 1.8796, 1.8288, 1.8796, 1.8796, 1.905 ,\n",
       "       1.8034, 1.9304, 1.8542, 1.7272, 1.8288, 1.7526, 1.8542, 1.905 ,\n",
       "       1.8796, 1.8796, 1.8796, 1.8542, 1.8796, 1.905 , 1.8796, 1.8542,\n",
       "       1.9304, 1.9812, 1.8542, 1.905 , 1.7018, 1.778 , 1.778 , 2.0066,\n",
       "       1.9304, 1.8288, 1.905 ])"
      ]
     },
     "execution_count": 45,
     "metadata": {},
     "output_type": "execute_result"
    }
   ],
   "source": [
    "batsmen [:, 0]"
   ]
  },
  {
   "cell_type": "code",
   "execution_count": null,
   "metadata": {},
   "outputs": [],
   "source": []
  }
 ],
 "metadata": {
  "kernelspec": {
   "display_name": "Python 3",
   "language": "python",
   "name": "python3"
  },
  "language_info": {
   "codemirror_mode": {
    "name": "ipython",
    "version": 3
   },
   "file_extension": ".py",
   "mimetype": "text/x-python",
   "name": "python",
   "nbconvert_exporter": "python",
   "pygments_lexer": "ipython3",
   "version": "3.12.0"
  }
 },
 "nbformat": 4,
 "nbformat_minor": 2
}
